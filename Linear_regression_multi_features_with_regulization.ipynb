{
 "cells": [
  {
   "cell_type": "code",
   "execution_count": 1,
   "metadata": {},
   "outputs": [],
   "source": [
    "import numpy as np\n",
    "import pandas as pd\n",
    "import matplotlib.pyplot as plt"
   ]
  },
  {
   "cell_type": "code",
   "execution_count": 2,
   "metadata": {},
   "outputs": [],
   "source": [
    "X = np.empty((0,3), float)\n",
    "Y = np.array([])\n",
    "rd = open(\"ex1data2.txt\")\n",
    "for i in rd:\n",
    "    s = i.split(',')\n",
    "#     print(s[0], s[1])\n",
    "    p = float(s[0])\n",
    "    q = float(s[1])\n",
    "    r = float(s[2])\n",
    "    X = np.vstack((X,np.array([1,p,q])))\n",
    "    Y = np.append(Y,r)\n",
    "Y = Y.reshape(1,len(Y))"
   ]
  },
  {
   "cell_type": "code",
   "execution_count": 3,
   "metadata": {},
   "outputs": [],
   "source": [
    "a= []\n",
    "b= []\n",
    "\n",
    "for i in range(len(X)):\n",
    "    a = a+ [[1,X[i][1],X[i][2]]]\n",
    "    b = b+ [Y[0][i]]\n"
   ]
  },
  {
   "cell_type": "code",
   "execution_count": 4,
   "metadata": {},
   "outputs": [
    {
     "data": {
      "text/plain": [
       "[[1, 2104.0, 3.0],\n",
       " [1, 1600.0, 3.0],\n",
       " [1, 2400.0, 3.0],\n",
       " [1, 1416.0, 2.0],\n",
       " [1, 3000.0, 4.0],\n",
       " [1, 1985.0, 4.0],\n",
       " [1, 1534.0, 3.0],\n",
       " [1, 1427.0, 3.0],\n",
       " [1, 1380.0, 3.0],\n",
       " [1, 1494.0, 3.0],\n",
       " [1, 1940.0, 4.0],\n",
       " [1, 2000.0, 3.0],\n",
       " [1, 1890.0, 3.0],\n",
       " [1, 4478.0, 5.0],\n",
       " [1, 1268.0, 3.0],\n",
       " [1, 2300.0, 4.0],\n",
       " [1, 1320.0, 2.0],\n",
       " [1, 1236.0, 3.0],\n",
       " [1, 2609.0, 4.0],\n",
       " [1, 3031.0, 4.0],\n",
       " [1, 1767.0, 3.0],\n",
       " [1, 1888.0, 2.0],\n",
       " [1, 1604.0, 3.0],\n",
       " [1, 1962.0, 4.0],\n",
       " [1, 3890.0, 3.0],\n",
       " [1, 1100.0, 3.0],\n",
       " [1, 1458.0, 3.0],\n",
       " [1, 2526.0, 3.0],\n",
       " [1, 2200.0, 3.0],\n",
       " [1, 2637.0, 3.0],\n",
       " [1, 1839.0, 2.0],\n",
       " [1, 1000.0, 1.0],\n",
       " [1, 2040.0, 4.0],\n",
       " [1, 3137.0, 3.0],\n",
       " [1, 1811.0, 4.0],\n",
       " [1, 1437.0, 3.0],\n",
       " [1, 1239.0, 3.0],\n",
       " [1, 2132.0, 4.0],\n",
       " [1, 4215.0, 4.0],\n",
       " [1, 2162.0, 4.0],\n",
       " [1, 1664.0, 2.0],\n",
       " [1, 2238.0, 3.0],\n",
       " [1, 2567.0, 4.0],\n",
       " [1, 1200.0, 3.0],\n",
       " [1, 852.0, 2.0],\n",
       " [1, 1852.0, 4.0],\n",
       " [1, 1203.0, 3.0]]"
      ]
     },
     "execution_count": 4,
     "metadata": {},
     "output_type": "execute_result"
    }
   ],
   "source": [
    "a"
   ]
  },
  {
   "cell_type": "code",
   "execution_count": 5,
   "metadata": {},
   "outputs": [],
   "source": [
    "x_t = np.transpose(a)"
   ]
  },
  {
   "cell_type": "code",
   "execution_count": 6,
   "metadata": {},
   "outputs": [
    {
     "data": {
      "text/plain": [
       "(3, 3)"
      ]
     },
     "execution_count": 6,
     "metadata": {},
     "output_type": "execute_result"
    }
   ],
   "source": [
    "inv = np.dot(x_t,a)\n",
    "inv.shape"
   ]
  },
  {
   "cell_type": "code",
   "execution_count": 7,
   "metadata": {},
   "outputs": [
    {
     "data": {
      "text/plain": [
       "array([[0, 0, 0],\n",
       "       [0, 2, 0],\n",
       "       [0, 0, 2]])"
      ]
     },
     "execution_count": 7,
     "metadata": {},
     "output_type": "execute_result"
    }
   ],
   "source": [
    "lmd = 2                                     #creation of matrix\n",
    "rgl = []\n",
    "for i in range(len(inv[0])):\n",
    "    temp = []\n",
    "    for j in range(len(inv[0])):\n",
    "        if(i==j):\n",
    "            temp = temp + [1]\n",
    "        else:\n",
    "            temp =temp + [0]\n",
    "    rgl = rgl + [temp]\n",
    "rgl[0][0] = 0 \n",
    "rgl = np.array(rgl)\n",
    "2*rgl"
   ]
  },
  {
   "cell_type": "code",
   "execution_count": 8,
   "metadata": {},
   "outputs": [],
   "source": [
    "inv = inv + rgl*lmd                  #Here diff than linear"
   ]
  },
  {
   "cell_type": "code",
   "execution_count": 9,
   "metadata": {},
   "outputs": [],
   "source": [
    "inv = np.linalg.pinv(inv)"
   ]
  },
  {
   "cell_type": "code",
   "execution_count": 10,
   "metadata": {},
   "outputs": [],
   "source": [
    "theta = np.dot(inv,x_t)"
   ]
  },
  {
   "cell_type": "code",
   "execution_count": 11,
   "metadata": {},
   "outputs": [],
   "source": [
    "theta =np.dot(theta,b)"
   ]
  },
  {
   "cell_type": "code",
   "execution_count": 12,
   "metadata": {},
   "outputs": [
    {
     "data": {
      "text/plain": [
       "array([87790.96627586,   138.7487163 , -7876.50809285])"
      ]
     },
     "execution_count": 12,
     "metadata": {},
     "output_type": "execute_result"
    }
   ],
   "source": [
    "theta"
   ]
  },
  {
   "cell_type": "code",
   "execution_count": 13,
   "metadata": {},
   "outputs": [],
   "source": [
    "theta = theta.reshape(1,3)\n",
    "y_pred = np.dot(theta,np.transpose(a))"
   ]
  },
  {
   "cell_type": "code",
   "execution_count": 14,
   "metadata": {},
   "outputs": [
    {
     "data": {
      "image/png": "[encoded data removed]",
      "text/plain": [
       "<Figure size 432x288 with 1 Axes>"
      ]
     },
     "metadata": {
      "needs_background": "light"
     },
     "output_type": "display_data"
    }
   ],
   "source": [
    "plt.scatter(Y,y_pred)\n",
    "plt.show()"
   ]
  },
  {
   "cell_type": "code",
   "execution_count": null,
   "metadata": {},
   "outputs": [],
   "source": []
  }
 ],
 "metadata": {
  "kernelspec": {
   "display_name": "Python 3",
   "language": "python",
   "name": "python3"
  },
  "language_info": {
   "codemirror_mode": {
    "name": "ipython",
    "version": 3
   },
   "file_extension": ".py",
   "mimetype": "text/x-python",
   "name": "python",
   "nbconvert_exporter": "python",
   "pygments_lexer": "ipython3",
   "version": "3.7.6"
  }
 },
 "nbformat": 4,
 "nbformat_minor": 4
}
