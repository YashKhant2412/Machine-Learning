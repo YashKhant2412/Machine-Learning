{
 "cells": [
  {
   "cell_type": "code",
   "execution_count": 69,
   "metadata": {},
   "outputs": [],
   "source": [
    "import numpy as np\n",
    "import pandas as pd\n",
    "import matplotlib.pyplot as plt"
   ]
  },
  {
   "cell_type": "code",
   "execution_count": 70,
   "metadata": {},
   "outputs": [],
   "source": [
    "a = np.empty((0,3), float)\n",
    "b = np.array([])\n",
    "rd = open(\"ex1data2.txt\")\n",
    "for i in rd:\n",
    "    s = i.split(',')\n",
    "#     print(s[0], s[1])\n",
    "    p = float(s[0])\n",
    "    q = float(s[1])\n",
    "    r = float(s[2])\n",
    "    a = np.vstack((a,np.array([1,p,q])))\n",
    "    b = np.append(b,r)\n",
    "b = b.reshape(1,len(b))"
   ]
  },
  {
   "cell_type": "code",
   "execution_count": 39,
   "metadata": {},
   "outputs": [],
   "source": [
    "a= []\n",
    "b= []\n",
    "\n",
    "for i in range(len(X)):\n",
    "    a = a+ [[1,X[i][1],X[i][2]]]\n",
    "    b = b+ [Y[0][i]]\n"
   ]
  },
  {
   "cell_type": "code",
   "execution_count": 40,
   "metadata": {},
   "outputs": [
    {
     "data": {
      "text/plain": [
       "[[1, 2104.0, 3.0],\n",
       " [1, 1600.0, 3.0],\n",
       " [1, 2400.0, 3.0],\n",
       " [1, 1416.0, 2.0],\n",
       " [1, 3000.0, 4.0],\n",
       " [1, 1985.0, 4.0],\n",
       " [1, 1534.0, 3.0],\n",
       " [1, 1427.0, 3.0],\n",
       " [1, 1380.0, 3.0],\n",
       " [1, 1494.0, 3.0],\n",
       " [1, 1940.0, 4.0],\n",
       " [1, 2000.0, 3.0],\n",
       " [1, 1890.0, 3.0],\n",
       " [1, 4478.0, 5.0],\n",
       " [1, 1268.0, 3.0],\n",
       " [1, 2300.0, 4.0],\n",
       " [1, 1320.0, 2.0],\n",
       " [1, 1236.0, 3.0],\n",
       " [1, 2609.0, 4.0],\n",
       " [1, 3031.0, 4.0],\n",
       " [1, 1767.0, 3.0],\n",
       " [1, 1888.0, 2.0],\n",
       " [1, 1604.0, 3.0],\n",
       " [1, 1962.0, 4.0],\n",
       " [1, 3890.0, 3.0],\n",
       " [1, 1100.0, 3.0],\n",
       " [1, 1458.0, 3.0],\n",
       " [1, 2526.0, 3.0],\n",
       " [1, 2200.0, 3.0],\n",
       " [1, 2637.0, 3.0],\n",
       " [1, 1839.0, 2.0],\n",
       " [1, 1000.0, 1.0],\n",
       " [1, 2040.0, 4.0],\n",
       " [1, 3137.0, 3.0],\n",
       " [1, 1811.0, 4.0],\n",
       " [1, 1437.0, 3.0],\n",
       " [1, 1239.0, 3.0],\n",
       " [1, 2132.0, 4.0],\n",
       " [1, 4215.0, 4.0],\n",
       " [1, 2162.0, 4.0],\n",
       " [1, 1664.0, 2.0],\n",
       " [1, 2238.0, 3.0],\n",
       " [1, 2567.0, 4.0],\n",
       " [1, 1200.0, 3.0],\n",
       " [1, 852.0, 2.0],\n",
       " [1, 1852.0, 4.0],\n",
       " [1, 1203.0, 3.0]]"
      ]
     },
     "execution_count": 40,
     "metadata": {},
     "output_type": "execute_result"
    }
   ],
   "source": [
    "a"
   ]
  },
  {
   "cell_type": "code",
   "execution_count": 71,
   "metadata": {},
   "outputs": [],
   "source": [
    "x_t = np.transpose(a)"
   ]
  },
  {
   "cell_type": "code",
   "execution_count": 72,
   "metadata": {},
   "outputs": [
    {
     "data": {
      "text/plain": [
       "(3, 3)"
      ]
     },
     "execution_count": 72,
     "metadata": {},
     "output_type": "execute_result"
    }
   ],
   "source": [
    "inv = np.dot(x_t,a)\n",
    "inv.shape"
   ]
  },
  {
   "cell_type": "code",
   "execution_count": 73,
   "metadata": {},
   "outputs": [
    {
     "data": {
      "text/plain": [
       "array([[0, 0, 0],\n",
       "       [0, 2, 0],\n",
       "       [0, 0, 2]])"
      ]
     },
     "execution_count": 73,
     "metadata": {},
     "output_type": "execute_result"
    }
   ],
   "source": [
    "lmd = 2                                     #creation of matrix\n",
    "rgl = []\n",
    "for i in range(len(inv[0])):\n",
    "    temp = []\n",
    "    for j in range(len(inv[0])):\n",
    "        if(i==j):\n",
    "            temp = temp + [1]\n",
    "        else:\n",
    "            temp =temp + [0]\n",
    "    rgl = rgl + [temp]\n",
    "rgl[0][0] = 0 \n",
    "rgl = np.array(rgl)\n",
    "2*rgl"
   ]
  },
  {
   "cell_type": "code",
   "execution_count": 74,
   "metadata": {},
   "outputs": [],
   "source": [
    "inv = inv + rgl*lmd                  #Here diff than linear"
   ]
  },
  {
   "cell_type": "code",
   "execution_count": 75,
   "metadata": {},
   "outputs": [],
   "source": [
    "inv = np.linalg.pinv(inv)"
   ]
  },
  {
   "cell_type": "code",
   "execution_count": 76,
   "metadata": {},
   "outputs": [],
   "source": [
    "theta = np.dot(inv,x_t)"
   ]
  },
  {
   "cell_type": "code",
   "execution_count": 77,
   "metadata": {},
   "outputs": [
    {
     "ename": "ValueError",
     "evalue": "shapes (3,47) and (1,47) not aligned: 47 (dim 1) != 1 (dim 0)",
     "output_type": "error",
     "traceback": [
      "\u001b[1;31m---------------------------------------------------------------------------\u001b[0m",
      "\u001b[1;31mValueError\u001b[0m                                Traceback (most recent call last)",
      "\u001b[1;32m<ipython-input-77-b388049da832>\u001b[0m in \u001b[0;36m<module>\u001b[1;34m\u001b[0m\n\u001b[1;32m----> 1\u001b[1;33m \u001b[0mtheta\u001b[0m \u001b[1;33m=\u001b[0m\u001b[0mnp\u001b[0m\u001b[1;33m.\u001b[0m\u001b[0mdot\u001b[0m\u001b[1;33m(\u001b[0m\u001b[0mtheta\u001b[0m\u001b[1;33m,\u001b[0m\u001b[0mb\u001b[0m\u001b[1;33m)\u001b[0m\u001b[1;33m\u001b[0m\u001b[1;33m\u001b[0m\u001b[0m\n\u001b[0m",
      "\u001b[1;32m<__array_function__ internals>\u001b[0m in \u001b[0;36mdot\u001b[1;34m(*args, **kwargs)\u001b[0m\n",
      "\u001b[1;31mValueError\u001b[0m: shapes (3,47) and (1,47) not aligned: 47 (dim 1) != 1 (dim 0)"
     ]
    }
   ],
   "source": [
    "theta =np.dot(theta,b)"
   ]
  },
  {
   "cell_type": "code",
   "execution_count": 78,
   "metadata": {},
   "outputs": [
    {
     "data": {
      "text/plain": [
       "array([[ 3.74887520e-02,  4.42551975e-02,  3.35148077e-02,\n",
       "         1.50121176e-01, -7.79361731e-02, -6.43093035e-02,\n",
       "         4.51412797e-02,  4.65778068e-02,  4.72088047e-02,\n",
       "         4.56782992e-02, -6.37051566e-02,  3.88850026e-02,\n",
       "         4.03618062e-02, -2.01174732e-01,  4.87124593e-02,\n",
       "        -6.85383320e-02,  1.51410022e-01,  4.91420749e-02,\n",
       "        -7.26868075e-02, -7.83523632e-02,  4.20131411e-02,\n",
       "         1.43784346e-01,  4.42014956e-02, -6.40005173e-02,\n",
       "         1.35108318e-02,  5.09679411e-02,  4.61616167e-02,\n",
       "         3.18231963e-02,  3.61999052e-02,  3.03329673e-02,\n",
       "         1.44442195e-01,  2.59101867e-01, -6.50477053e-02,\n",
       "         2.36202236e-02, -6.19732687e-02,  4.64435519e-02,\n",
       "         4.91017984e-02, -6.62828501e-02, -9.42481400e-02,\n",
       "        -6.66856148e-02,  1.46791655e-01,  3.56897367e-02,\n",
       "        -7.21229371e-02,  4.96253924e-02,  1.57693150e-01,\n",
       "        -6.25237137e-02,  4.95851159e-02],\n",
       "       [ 9.52006227e-06, -1.49719811e-05,  2.39042782e-05,\n",
       "         2.51948343e-06,  2.66284685e-05, -2.26957854e-05,\n",
       "        -1.81792725e-05, -2.33789721e-05, -2.56629524e-05,\n",
       "        -2.01230854e-05, -2.48825750e-05,  4.46614856e-06,\n",
       "        -8.79337082e-07,  7.20193534e-05, -3.11056287e-05,\n",
       "        -7.38825833e-06, -2.14566769e-06, -3.26606790e-05,\n",
       "         7.62769681e-06,  2.81349236e-05, -6.85656194e-06,\n",
       "         2.54564764e-05, -1.47775998e-05, -2.38134779e-05,\n",
       "         9.63113111e-05, -3.92696431e-05, -2.18725171e-05,\n",
       "         3.00272890e-05,  1.41852134e-05,  3.54213700e-05,\n",
       "         2.30753055e-05,  8.73683273e-06, -2.00230426e-05,\n",
       "         5.97190320e-05, -3.11513718e-05, -2.28930189e-05,\n",
       "        -3.25148931e-05, -1.55522728e-05,  8.56717873e-05,\n",
       "        -1.40944131e-05,  1.45711238e-05,  1.60318357e-05,\n",
       "         5.58669320e-06, -3.44101107e-05, -2.48882793e-05,\n",
       "        -2.91589635e-05, -3.42643247e-05],\n",
       "       [-1.11218915e-02,  2.20034255e-03, -1.89460607e-02,\n",
       "        -4.22322639e-02,  1.44904160e-02,  4.13199152e-02,\n",
       "         3.94492082e-03,  6.77325226e-03,  8.01560346e-03,\n",
       "         5.00224099e-03,  4.25094003e-02, -8.37285909e-03,\n",
       "        -5.46522864e-03,  2.47187151e-02,  1.09760999e-02,\n",
       "         3.29935189e-02, -3.96946955e-02,  1.18219560e-02,\n",
       "         2.48257206e-02,  1.36709929e-02, -2.21396914e-03,\n",
       "        -5.47086418e-02,  2.09461054e-03,  4.19278743e-02,\n",
       "        -5.83312369e-02,  1.54168446e-02,  5.95382914e-03,\n",
       "        -2.22766193e-02, -1.36594599e-02, -2.52106827e-02,\n",
       "        -5.34134246e-02, -8.05324134e-02,  3.98660999e-02,\n",
       "        -3.84271848e-02,  4.59192579e-02,  6.50892222e-03,\n",
       "         1.17426570e-02,  3.74342636e-02, -1.76256840e-02,\n",
       "         3.66412734e-02, -4.87876489e-02, -1.46639141e-02,\n",
       "         2.59359068e-02,  1.27735442e-02, -2.73240496e-02,\n",
       "         4.48355047e-02,  1.26942452e-02]])"
      ]
     },
     "execution_count": 78,
     "metadata": {},
     "output_type": "execute_result"
    }
   ],
   "source": [
    "theta"
   ]
  },
  {
   "cell_type": "code",
   "execution_count": 62,
   "metadata": {},
   "outputs": [],
   "source": [
    "theta = theta.reshape(1,3)\n",
    "y_pred = np.dot(theta,np.transpose(a))"
   ]
  },
  {
   "cell_type": "code",
   "execution_count": 34,
   "metadata": {},
   "outputs": [
    {
     "data": {
      "image/png": "[encoded data removed]",
      "text/plain": [
       "<Figure size 432x288 with 1 Axes>"
      ]
     },
     "metadata": {
      "needs_background": "light"
     },
     "output_type": "display_data"
    }
   ],
   "source": [
    "plt.scatter(Y,y_pred)\n",
    "plt.show()"
   ]
  },
  {
   "cell_type": "code",
   "execution_count": null,
   "metadata": {},
   "outputs": [],
   "source": []
  }
 ],
 "metadata": {
  "kernelspec": {
   "display_name": "Python 3",
   "language": "python",
   "name": "python3"
  },
  "language_info": {
   "codemirror_mode": {
    "name": "ipython",
    "version": 3
   },
   "file_extension": ".py",
   "mimetype": "text/x-python",
   "name": "python",
   "nbconvert_exporter": "python",
   "pygments_lexer": "ipython3",
   "version": "3.7.6"
  }
 },
 "nbformat": 4,
 "nbformat_minor": 4
}
