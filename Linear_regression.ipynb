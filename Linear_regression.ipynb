{
 "cells": [
  {
   "cell_type": "code",
   "execution_count": 1,
   "metadata": {},
   "outputs": [],
   "source": [
    "import numpy as np\n",
    "import pandas as pd\n",
    "import matplotlib.pyplot as plt"
   ]
  },
  {
   "cell_type": "code",
   "execution_count": 2,
   "metadata": {},
   "outputs": [],
   "source": [
    "X = np.array([])\n",
    "Y = np.array([])\n",
    "rd = open(\"ex1data1.txt\")\n",
    "for i in rd:\n",
    "    s = i.split(',')\n",
    "#     print(s[0], s[1])\n",
    "    p = float(s[0])\n",
    "    q = float(s[1])\n",
    "    X = np.append(X,p)\n",
    "    Y = np.append(Y,q)\n"
   ]
  },
  {
   "cell_type": "code",
   "execution_count": 3,
   "metadata": {},
   "outputs": [],
   "source": [
    "# y = theta0 + theta1*x\n",
    "theta = [0,0]\n",
    "m = float(len(X))\n",
    "a = 0.01\n",
    "iteration = 1500\n",
    "sum0,sum1 = 0,0"
   ]
  },
  {
   "cell_type": "code",
   "execution_count": 4,
   "metadata": {},
   "outputs": [
    {
     "name": "stdout",
     "output_type": "stream",
     "text": [
      "[-3.63029143940436, 1.166362350335582]\n"
     ]
    }
   ],
   "source": [
    "for i in range(iteration):\n",
    "    y_pred = (theta[0] + theta[1]*X)\n",
    "    sum0 = sum(y_pred - Y)\n",
    "    sum1 = sum((y_pred - Y)*X)\n",
    "    theta[0] = theta[0] - (a/m)*sum0\n",
    "    theta[1] = theta[1] - (a/m)*sum1\n",
    "print(theta)"
   ]
  },
  {
   "cell_type": "markdown",
   "metadata": {},
   "source": [
    "for i in range(len(y)):             #CHECK AT THIS POINT\n",
    "    y_pred = c + m*X[i]\n",
    "    print(y[i],y_pred)"
   ]
  },
  {
   "cell_type": "code",
   "execution_count": null,
   "metadata": {},
   "outputs": [],
   "source": []
  },
  {
   "cell_type": "code",
   "execution_count": 6,
   "metadata": {},
   "outputs": [],
   "source": [
    "a= []\n",
    "b= []\n",
    "\n",
    "for i in range(len(X)):\n",
    "    a = a+ [[1,X[i]]]\n",
    "    b = b+ [Y[i]]\n"
   ]
  },
  {
   "cell_type": "code",
   "execution_count": 7,
   "metadata": {},
   "outputs": [
    {
     "data": {
      "text/plain": [
       "[[1, 6.1101],\n",
       " [1, 5.5277],\n",
       " [1, 8.5186],\n",
       " [1, 7.0032],\n",
       " [1, 5.8598],\n",
       " [1, 8.3829],\n",
       " [1, 7.4764],\n",
       " [1, 8.5781],\n",
       " [1, 6.4862],\n",
       " [1, 5.0546],\n",
       " [1, 5.7107],\n",
       " [1, 14.164],\n",
       " [1, 5.734],\n",
       " [1, 8.4084],\n",
       " [1, 5.6407],\n",
       " [1, 5.3794],\n",
       " [1, 6.3654],\n",
       " [1, 5.1301],\n",
       " [1, 6.4296],\n",
       " [1, 7.0708],\n",
       " [1, 6.1891],\n",
       " [1, 20.27],\n",
       " [1, 5.4901],\n",
       " [1, 6.3261],\n",
       " [1, 5.5649],\n",
       " [1, 18.945],\n",
       " [1, 12.828],\n",
       " [1, 10.957],\n",
       " [1, 13.176],\n",
       " [1, 22.203],\n",
       " [1, 5.2524],\n",
       " [1, 6.5894],\n",
       " [1, 9.2482],\n",
       " [1, 5.8918],\n",
       " [1, 8.2111],\n",
       " [1, 7.9334],\n",
       " [1, 8.0959],\n",
       " [1, 5.6063],\n",
       " [1, 12.836],\n",
       " [1, 6.3534],\n",
       " [1, 5.4069],\n",
       " [1, 6.8825],\n",
       " [1, 11.708],\n",
       " [1, 5.7737],\n",
       " [1, 7.8247],\n",
       " [1, 7.0931],\n",
       " [1, 5.0702],\n",
       " [1, 5.8014],\n",
       " [1, 11.7],\n",
       " [1, 5.5416],\n",
       " [1, 7.5402],\n",
       " [1, 5.3077],\n",
       " [1, 7.4239],\n",
       " [1, 7.6031],\n",
       " [1, 6.3328],\n",
       " [1, 6.3589],\n",
       " [1, 6.2742],\n",
       " [1, 5.6397],\n",
       " [1, 9.3102],\n",
       " [1, 9.4536],\n",
       " [1, 8.8254],\n",
       " [1, 5.1793],\n",
       " [1, 21.279],\n",
       " [1, 14.908],\n",
       " [1, 18.959],\n",
       " [1, 7.2182],\n",
       " [1, 8.2951],\n",
       " [1, 10.236],\n",
       " [1, 5.4994],\n",
       " [1, 20.341],\n",
       " [1, 10.136],\n",
       " [1, 7.3345],\n",
       " [1, 6.0062],\n",
       " [1, 7.2259],\n",
       " [1, 5.0269],\n",
       " [1, 6.5479],\n",
       " [1, 7.5386],\n",
       " [1, 5.0365],\n",
       " [1, 10.274],\n",
       " [1, 5.1077],\n",
       " [1, 5.7292],\n",
       " [1, 5.1884],\n",
       " [1, 6.3557],\n",
       " [1, 9.7687],\n",
       " [1, 6.5159],\n",
       " [1, 8.5172],\n",
       " [1, 9.1802],\n",
       " [1, 6.002],\n",
       " [1, 5.5204],\n",
       " [1, 5.0594],\n",
       " [1, 5.7077],\n",
       " [1, 7.6366],\n",
       " [1, 5.8707],\n",
       " [1, 5.3054],\n",
       " [1, 8.2934],\n",
       " [1, 13.394],\n",
       " [1, 5.4369]]"
      ]
     },
     "execution_count": 7,
     "metadata": {},
     "output_type": "execute_result"
    }
   ],
   "source": [
    "a"
   ]
  },
  {
   "cell_type": "code",
   "execution_count": 8,
   "metadata": {},
   "outputs": [],
   "source": [
    "x_t = np.transpose(a)"
   ]
  },
  {
   "cell_type": "code",
   "execution_count": 9,
   "metadata": {},
   "outputs": [],
   "source": [
    "inv = np.linalg.pinv(np.dot(x_t,a))"
   ]
  },
  {
   "cell_type": "code",
   "execution_count": 10,
   "metadata": {},
   "outputs": [],
   "source": [
    "theta = np.dot(inv,x_t)"
   ]
  },
  {
   "cell_type": "code",
   "execution_count": 11,
   "metadata": {},
   "outputs": [],
   "source": [
    "theta =np.dot(theta,b)"
   ]
  },
  {
   "cell_type": "code",
   "execution_count": 12,
   "metadata": {},
   "outputs": [
    {
     "data": {
      "text/plain": [
       "array([-3.89578088,  1.19303364])"
      ]
     },
     "execution_count": 12,
     "metadata": {},
     "output_type": "execute_result"
    }
   ],
   "source": [
    "theta"
   ]
  },
  {
   "cell_type": "code",
   "execution_count": null,
   "metadata": {},
   "outputs": [],
   "source": []
  },
  {
   "cell_type": "code",
   "execution_count": null,
   "metadata": {},
   "outputs": [],
   "source": []
  }
 ],
 "metadata": {
  "kernelspec": {
   "display_name": "Python 3",
   "language": "python",
   "name": "python3"
  },
  "language_info": {
   "codemirror_mode": {
    "name": "ipython",
    "version": 3
   },
   "file_extension": ".py",
   "mimetype": "text/x-python",
   "name": "python",
   "nbconvert_exporter": "python",
   "pygments_lexer": "ipython3",
   "version": "3.7.6"
  }
 },
 "nbformat": 4,
 "nbformat_minor": 4
}
